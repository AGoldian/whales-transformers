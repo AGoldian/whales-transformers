{
 "cells": [
  {
   "cell_type": "code",
   "execution_count": 1,
   "id": "45750956",
   "metadata": {
    "_cell_guid": "b1076dfc-b9ad-4769-8c92-a6c4dae69d19",
    "_uuid": "8f2839f25d086af736a60e9eeb907d3b93b6e0e5",
    "execution": {
     "iopub.execute_input": "2023-08-15T21:17:57.496064Z",
     "iopub.status.busy": "2023-08-15T21:17:57.495640Z",
     "iopub.status.idle": "2023-08-15T21:17:57.508452Z",
     "shell.execute_reply": "2023-08-15T21:17:57.507615Z"
    },
    "papermill": {
     "duration": 0.028038,
     "end_time": "2023-08-15T21:17:57.510424",
     "exception": false,
     "start_time": "2023-08-15T21:17:57.482386",
     "status": "completed"
    },
    "tags": []
   },
   "outputs": [],
   "source": [
    "# This Python 3 environment comes with many helpful analytics libraries installed\n",
    "# It is defined by the kaggle/python Docker image: https://github.com/kaggle/docker-python\n",
    "# For example, here's several helpful packages to load\n",
    "\n",
    "import numpy as np # linear algebra\n",
    "import pandas as pd # data processing, CSV file I/O (e.g. pd.read_csv)\n",
    "import matplotlib.pyplot as plt\n",
    "\n",
    "# Input data files are available in the read-only \"../input/\" directory\n",
    "# For example, running this (by clicking run or pressing Shift+Enter) will list all files under the input directory\n",
    "\n",
    "import os\n",
    "import gc\n",
    "# for dirname, _, filenames in os.walk('/kaggle/input'):\n",
    "#     for filename in filenames:\n",
    "#         print(os.path.join(dirname, filename))\n",
    "\n",
    "# You can write up to 20GB to the current directory (/kaggle/working/) that gets preserved as output when you create a version using \"Save & Run All\" \n",
    "# You can also write temporary files to /kaggle/temp/, but they won't be saved outside of the current session"
   ]
  },
  {
   "cell_type": "code",
   "execution_count": 2,
   "id": "1d400d5e",
   "metadata": {
    "execution": {
     "iopub.execute_input": "2023-08-15T21:17:57.535062Z",
     "iopub.status.busy": "2023-08-15T21:17:57.534233Z",
     "iopub.status.idle": "2023-08-15T21:18:03.021691Z",
     "shell.execute_reply": "2023-08-15T21:18:03.020712Z"
    },
    "papermill": {
     "duration": 5.502272,
     "end_time": "2023-08-15T21:18:03.024254",
     "exception": false,
     "start_time": "2023-08-15T21:17:57.521982",
     "status": "completed"
    },
    "tags": []
   },
   "outputs": [
    {
     "name": "stderr",
     "output_type": "stream",
     "text": [
      "/opt/conda/lib/python3.10/site-packages/scipy/__init__.py:146: UserWarning: A NumPy version >=1.16.5 and <1.23.0 is required for this version of SciPy (detected version 1.23.5\n",
      "  warnings.warn(f\"A NumPy version >={np_minversion} and <{np_maxversion}\"\n"
     ]
    }
   ],
   "source": [
    "## PyTorch\n",
    "import torch\n",
    "import torch.nn as nn\n",
    "import torch.nn.functional as F\n",
    "import torch.utils.data as data\n",
    "import torch.optim as optim\n",
    "from torch.utils.data import Dataset, DataLoader\n",
    "\n",
    "## Torchvision\n",
    "import torchvision\n",
    "from torchvision import transforms\n",
    "\n",
    "## Augmentations\n",
    "import albumentations as A\n",
    "from albumentations.pytorch import ToTensorV2\n",
    "\n",
    "# Sklearn Imports\n",
    "from sklearn.preprocessing import LabelEncoder\n",
    "from sklearn.model_selection import StratifiedKFold\n",
    "\n",
    "import cv2\n",
    "\n",
    "## Utils\n",
    "import joblib\n",
    "from tqdm import tqdm"
   ]
  },
  {
   "cell_type": "code",
   "execution_count": 3,
   "id": "00a8730d",
   "metadata": {
    "execution": {
     "iopub.execute_input": "2023-08-15T21:18:03.049649Z",
     "iopub.status.busy": "2023-08-15T21:18:03.049337Z",
     "iopub.status.idle": "2023-08-15T21:18:03.119483Z",
     "shell.execute_reply": "2023-08-15T21:18:03.118538Z"
    },
    "papermill": {
     "duration": 0.08537,
     "end_time": "2023-08-15T21:18:03.121650",
     "exception": false,
     "start_time": "2023-08-15T21:18:03.036280",
     "status": "completed"
    },
    "tags": []
   },
   "outputs": [],
   "source": [
    "CONFIG = {\n",
    "    'img_size': 448,\n",
    "    'seed': 22,\n",
    "    'n_fold': 5,\n",
    "    'train_batch_size': 32,\n",
    "    'test_batch_size': 64,\n",
    "    'num_classes': 15587,\n",
    "    'patches_size': 32,\n",
    "    'device': torch.device('cuda:0' if torch.cuda.is_available() else 'cpu'),\n",
    "}"
   ]
  },
  {
   "cell_type": "code",
   "execution_count": 4,
   "id": "2382ff8a",
   "metadata": {
    "execution": {
     "iopub.execute_input": "2023-08-15T21:18:03.147321Z",
     "iopub.status.busy": "2023-08-15T21:18:03.146380Z",
     "iopub.status.idle": "2023-08-15T21:18:03.156633Z",
     "shell.execute_reply": "2023-08-15T21:18:03.155751Z"
    },
    "papermill": {
     "duration": 0.025348,
     "end_time": "2023-08-15T21:18:03.158707",
     "exception": false,
     "start_time": "2023-08-15T21:18:03.133359",
     "status": "completed"
    },
    "tags": []
   },
   "outputs": [],
   "source": [
    "def set_seed(seed=42):\n",
    "    '''Sets the seed of the entire notebook so results are the same every time we run.\n",
    "    This is for REPRODUCIBILITY.'''\n",
    "    np.random.seed(seed)\n",
    "    torch.manual_seed(seed)\n",
    "    torch.cuda.manual_seed(seed)\n",
    "    # When running on the CuDNN backend, two further options must be set\n",
    "    torch.backends.cudnn.deterministic = True\n",
    "    torch.backends.cudnn.benchmark = False\n",
    "    # Set a fixed value for the hash seed\n",
    "    os.environ['PYTHONHASHSEED'] = str(seed)\n",
    "    \n",
    "set_seed(CONFIG['seed'])"
   ]
  },
  {
   "cell_type": "code",
   "execution_count": 5,
   "id": "8b60f731",
   "metadata": {
    "execution": {
     "iopub.execute_input": "2023-08-15T21:18:03.183638Z",
     "iopub.status.busy": "2023-08-15T21:18:03.182811Z",
     "iopub.status.idle": "2023-08-15T21:18:03.187457Z",
     "shell.execute_reply": "2023-08-15T21:18:03.186606Z"
    },
    "papermill": {
     "duration": 0.01923,
     "end_time": "2023-08-15T21:18:03.189374",
     "exception": false,
     "start_time": "2023-08-15T21:18:03.170144",
     "status": "completed"
    },
    "tags": []
   },
   "outputs": [],
   "source": [
    "ROOT_DIR = '../input/happy-whale-and-dolphin'\n",
    "TRAIN_DIR = '../input/happy-whale-and-dolphin/train_images'\n",
    "TEST_DIR = '../input/happy-whale-and-dolphin/test_images'"
   ]
  },
  {
   "cell_type": "code",
   "execution_count": 6,
   "id": "23f3b1b1",
   "metadata": {
    "execution": {
     "iopub.execute_input": "2023-08-15T21:18:03.214436Z",
     "iopub.status.busy": "2023-08-15T21:18:03.213584Z",
     "iopub.status.idle": "2023-08-15T21:18:03.218248Z",
     "shell.execute_reply": "2023-08-15T21:18:03.217397Z"
    },
    "papermill": {
     "duration": 0.01894,
     "end_time": "2023-08-15T21:18:03.220200",
     "exception": false,
     "start_time": "2023-08-15T21:18:03.201260",
     "status": "completed"
    },
    "tags": []
   },
   "outputs": [],
   "source": [
    "def get_train_file_path(id):\n",
    "    return f\"{TRAIN_DIR}/{id}\""
   ]
  },
  {
   "cell_type": "code",
   "execution_count": 7,
   "id": "cd2412ca",
   "metadata": {
    "execution": {
     "iopub.execute_input": "2023-08-15T21:18:03.244878Z",
     "iopub.status.busy": "2023-08-15T21:18:03.244065Z",
     "iopub.status.idle": "2023-08-15T21:18:03.369783Z",
     "shell.execute_reply": "2023-08-15T21:18:03.368846Z"
    },
    "papermill": {
     "duration": 0.140052,
     "end_time": "2023-08-15T21:18:03.371798",
     "exception": false,
     "start_time": "2023-08-15T21:18:03.231746",
     "status": "completed"
    },
    "tags": []
   },
   "outputs": [
    {
     "data": {
      "text/html": [
       "<div>\n",
       "<style scoped>\n",
       "    .dataframe tbody tr th:only-of-type {\n",
       "        vertical-align: middle;\n",
       "    }\n",
       "\n",
       "    .dataframe tbody tr th {\n",
       "        vertical-align: top;\n",
       "    }\n",
       "\n",
       "    .dataframe thead th {\n",
       "        text-align: right;\n",
       "    }\n",
       "</style>\n",
       "<table border=\"1\" class=\"dataframe\">\n",
       "  <thead>\n",
       "    <tr style=\"text-align: right;\">\n",
       "      <th></th>\n",
       "      <th>image</th>\n",
       "      <th>species</th>\n",
       "      <th>individual_id</th>\n",
       "      <th>file_path</th>\n",
       "    </tr>\n",
       "  </thead>\n",
       "  <tbody>\n",
       "    <tr>\n",
       "      <th>0</th>\n",
       "      <td>00021adfb725ed.jpg</td>\n",
       "      <td>melon_headed_whale</td>\n",
       "      <td>cadddb1636b9</td>\n",
       "      <td>../input/happy-whale-and-dolphin/train_images/...</td>\n",
       "    </tr>\n",
       "    <tr>\n",
       "      <th>1</th>\n",
       "      <td>000562241d384d.jpg</td>\n",
       "      <td>humpback_whale</td>\n",
       "      <td>1a71fbb72250</td>\n",
       "      <td>../input/happy-whale-and-dolphin/train_images/...</td>\n",
       "    </tr>\n",
       "    <tr>\n",
       "      <th>2</th>\n",
       "      <td>0007c33415ce37.jpg</td>\n",
       "      <td>false_killer_whale</td>\n",
       "      <td>60008f293a2b</td>\n",
       "      <td>../input/happy-whale-and-dolphin/train_images/...</td>\n",
       "    </tr>\n",
       "    <tr>\n",
       "      <th>3</th>\n",
       "      <td>0007d9bca26a99.jpg</td>\n",
       "      <td>bottlenose_dolphin</td>\n",
       "      <td>4b00fe572063</td>\n",
       "      <td>../input/happy-whale-and-dolphin/train_images/...</td>\n",
       "    </tr>\n",
       "    <tr>\n",
       "      <th>4</th>\n",
       "      <td>00087baf5cef7a.jpg</td>\n",
       "      <td>humpback_whale</td>\n",
       "      <td>8e5253662392</td>\n",
       "      <td>../input/happy-whale-and-dolphin/train_images/...</td>\n",
       "    </tr>\n",
       "  </tbody>\n",
       "</table>\n",
       "</div>"
      ],
      "text/plain": [
       "                image             species individual_id  \\\n",
       "0  00021adfb725ed.jpg  melon_headed_whale  cadddb1636b9   \n",
       "1  000562241d384d.jpg      humpback_whale  1a71fbb72250   \n",
       "2  0007c33415ce37.jpg  false_killer_whale  60008f293a2b   \n",
       "3  0007d9bca26a99.jpg  bottlenose_dolphin  4b00fe572063   \n",
       "4  00087baf5cef7a.jpg      humpback_whale  8e5253662392   \n",
       "\n",
       "                                           file_path  \n",
       "0  ../input/happy-whale-and-dolphin/train_images/...  \n",
       "1  ../input/happy-whale-and-dolphin/train_images/...  \n",
       "2  ../input/happy-whale-and-dolphin/train_images/...  \n",
       "3  ../input/happy-whale-and-dolphin/train_images/...  \n",
       "4  ../input/happy-whale-and-dolphin/train_images/...  "
      ]
     },
     "execution_count": 7,
     "metadata": {},
     "output_type": "execute_result"
    }
   ],
   "source": [
    "df = pd.read_csv(f\"{ROOT_DIR}/train.csv\")\n",
    "df['file_path'] = df['image'].apply(get_train_file_path)\n",
    "df.head()"
   ]
  },
  {
   "cell_type": "code",
   "execution_count": 8,
   "id": "4e51f21d",
   "metadata": {
    "execution": {
     "iopub.execute_input": "2023-08-15T21:18:03.398328Z",
     "iopub.status.busy": "2023-08-15T21:18:03.397436Z",
     "iopub.status.idle": "2023-08-15T21:18:03.453408Z",
     "shell.execute_reply": "2023-08-15T21:18:03.452377Z"
    },
    "papermill": {
     "duration": 0.070832,
     "end_time": "2023-08-15T21:18:03.455640",
     "exception": false,
     "start_time": "2023-08-15T21:18:03.384808",
     "status": "completed"
    },
    "tags": []
   },
   "outputs": [],
   "source": [
    "encoder = LabelEncoder()\n",
    "df['individual_id'] = encoder.fit_transform(df['individual_id'])\n",
    "\n",
    "with open(\"le.pkl\", \"wb\") as fp:\n",
    "    joblib.dump(encoder, fp)"
   ]
  },
  {
   "cell_type": "code",
   "execution_count": 9,
   "id": "a8addac1",
   "metadata": {
    "execution": {
     "iopub.execute_input": "2023-08-15T21:18:03.481021Z",
     "iopub.status.busy": "2023-08-15T21:18:03.480181Z",
     "iopub.status.idle": "2023-08-15T21:18:03.490281Z",
     "shell.execute_reply": "2023-08-15T21:18:03.489243Z"
    },
    "papermill": {
     "duration": 0.025128,
     "end_time": "2023-08-15T21:18:03.492589",
     "exception": false,
     "start_time": "2023-08-15T21:18:03.467461",
     "status": "completed"
    },
    "tags": []
   },
   "outputs": [
    {
     "data": {
      "text/html": [
       "<div>\n",
       "<style scoped>\n",
       "    .dataframe tbody tr th:only-of-type {\n",
       "        vertical-align: middle;\n",
       "    }\n",
       "\n",
       "    .dataframe tbody tr th {\n",
       "        vertical-align: top;\n",
       "    }\n",
       "\n",
       "    .dataframe thead th {\n",
       "        text-align: right;\n",
       "    }\n",
       "</style>\n",
       "<table border=\"1\" class=\"dataframe\">\n",
       "  <thead>\n",
       "    <tr style=\"text-align: right;\">\n",
       "      <th></th>\n",
       "      <th>image</th>\n",
       "      <th>species</th>\n",
       "      <th>individual_id</th>\n",
       "      <th>file_path</th>\n",
       "    </tr>\n",
       "  </thead>\n",
       "  <tbody>\n",
       "    <tr>\n",
       "      <th>0</th>\n",
       "      <td>00021adfb725ed.jpg</td>\n",
       "      <td>melon_headed_whale</td>\n",
       "      <td>12348</td>\n",
       "      <td>../input/happy-whale-and-dolphin/train_images/...</td>\n",
       "    </tr>\n",
       "    <tr>\n",
       "      <th>1</th>\n",
       "      <td>000562241d384d.jpg</td>\n",
       "      <td>humpback_whale</td>\n",
       "      <td>1636</td>\n",
       "      <td>../input/happy-whale-and-dolphin/train_images/...</td>\n",
       "    </tr>\n",
       "    <tr>\n",
       "      <th>2</th>\n",
       "      <td>0007c33415ce37.jpg</td>\n",
       "      <td>false_killer_whale</td>\n",
       "      <td>5842</td>\n",
       "      <td>../input/happy-whale-and-dolphin/train_images/...</td>\n",
       "    </tr>\n",
       "    <tr>\n",
       "      <th>3</th>\n",
       "      <td>0007d9bca26a99.jpg</td>\n",
       "      <td>bottlenose_dolphin</td>\n",
       "      <td>4551</td>\n",
       "      <td>../input/happy-whale-and-dolphin/train_images/...</td>\n",
       "    </tr>\n",
       "    <tr>\n",
       "      <th>4</th>\n",
       "      <td>00087baf5cef7a.jpg</td>\n",
       "      <td>humpback_whale</td>\n",
       "      <td>8721</td>\n",
       "      <td>../input/happy-whale-and-dolphin/train_images/...</td>\n",
       "    </tr>\n",
       "  </tbody>\n",
       "</table>\n",
       "</div>"
      ],
      "text/plain": [
       "                image             species  individual_id  \\\n",
       "0  00021adfb725ed.jpg  melon_headed_whale          12348   \n",
       "1  000562241d384d.jpg      humpback_whale           1636   \n",
       "2  0007c33415ce37.jpg  false_killer_whale           5842   \n",
       "3  0007d9bca26a99.jpg  bottlenose_dolphin           4551   \n",
       "4  00087baf5cef7a.jpg      humpback_whale           8721   \n",
       "\n",
       "                                           file_path  \n",
       "0  ../input/happy-whale-and-dolphin/train_images/...  \n",
       "1  ../input/happy-whale-and-dolphin/train_images/...  \n",
       "2  ../input/happy-whale-and-dolphin/train_images/...  \n",
       "3  ../input/happy-whale-and-dolphin/train_images/...  \n",
       "4  ../input/happy-whale-and-dolphin/train_images/...  "
      ]
     },
     "execution_count": 9,
     "metadata": {},
     "output_type": "execute_result"
    }
   ],
   "source": [
    "df.head()"
   ]
  },
  {
   "cell_type": "code",
   "execution_count": 10,
   "id": "4b654d3f",
   "metadata": {
    "execution": {
     "iopub.execute_input": "2023-08-15T21:18:03.518486Z",
     "iopub.status.busy": "2023-08-15T21:18:03.517686Z",
     "iopub.status.idle": "2023-08-15T21:18:03.525442Z",
     "shell.execute_reply": "2023-08-15T21:18:03.524555Z"
    },
    "papermill": {
     "duration": 0.022438,
     "end_time": "2023-08-15T21:18:03.527374",
     "exception": false,
     "start_time": "2023-08-15T21:18:03.504936",
     "status": "completed"
    },
    "tags": []
   },
   "outputs": [],
   "source": [
    "class HappyWhaleDataset(Dataset):\n",
    "    def __init__(self, df, transforms=None):\n",
    "        self.df = df\n",
    "        self.file_names = df['file_path'].values\n",
    "        self.labels = df['individual_id'].values\n",
    "        self.transforms = transforms\n",
    "        \n",
    "    def __len__(self):\n",
    "        return len(self.df)\n",
    "    \n",
    "    def __getitem__(self, index):\n",
    "        img_path = self.file_names[index]\n",
    "        img = cv2.imread(img_path)\n",
    "        img = cv2.cvtColor(img, cv2.COLOR_BGR2RGB)\n",
    "        label = self.labels[index]\n",
    "        \n",
    "        if self.transforms:\n",
    "            img = self.transforms(image=img)[\"image\"]\n",
    "            \n",
    "        return {\n",
    "            'image': img,\n",
    "            'label': torch.tensor(label, dtype=torch.long)\n",
    "        }"
   ]
  },
  {
   "cell_type": "code",
   "execution_count": 11,
   "id": "072a10a1",
   "metadata": {
    "execution": {
     "iopub.execute_input": "2023-08-15T21:18:03.553032Z",
     "iopub.status.busy": "2023-08-15T21:18:03.552211Z",
     "iopub.status.idle": "2023-08-15T21:18:03.560885Z",
     "shell.execute_reply": "2023-08-15T21:18:03.560047Z"
    },
    "papermill": {
     "duration": 0.023553,
     "end_time": "2023-08-15T21:18:03.562824",
     "exception": false,
     "start_time": "2023-08-15T21:18:03.539271",
     "status": "completed"
    },
    "tags": []
   },
   "outputs": [],
   "source": [
    "data_transforms = {\n",
    "    \"train\": A.Compose([\n",
    "        A.Resize(CONFIG['img_size'], CONFIG['img_size']),\n",
    "        A.ShiftScaleRotate(shift_limit=0.1, \n",
    "                           scale_limit=0.15, \n",
    "                           rotate_limit=60, \n",
    "                           p=0.5),\n",
    "        A.HueSaturationValue(\n",
    "                hue_shift_limit=0.2, \n",
    "                sat_shift_limit=0.2, \n",
    "                val_shift_limit=0.2, \n",
    "                p=0.5\n",
    "            ),\n",
    "        A.RandomBrightnessContrast(\n",
    "                brightness_limit=(-0.1,0.1), \n",
    "                contrast_limit=(-0.1, 0.1), \n",
    "                p=0.5\n",
    "            ),\n",
    "        A.Normalize(\n",
    "                mean=[0.485, 0.456, 0.406], \n",
    "                std=[0.229, 0.224, 0.225], \n",
    "                max_pixel_value=255.0, \n",
    "                p=1.0\n",
    "            ),\n",
    "        ToTensorV2()], p=1.),\n",
    "    \n",
    "    \"test\": A.Compose([\n",
    "        A.Resize(CONFIG['img_size'], CONFIG['img_size']),\n",
    "        A.Normalize(\n",
    "                mean=[0.485, 0.456, 0.406], \n",
    "                std=[0.229, 0.224, 0.225], \n",
    "                max_pixel_value=255.0, \n",
    "                p=1.0\n",
    "            ),\n",
    "        ToTensorV2()], p=1.)\n",
    "}"
   ]
  },
  {
   "cell_type": "code",
   "execution_count": 12,
   "id": "cd56fc3d",
   "metadata": {
    "execution": {
     "iopub.execute_input": "2023-08-15T21:18:03.588230Z",
     "iopub.status.busy": "2023-08-15T21:18:03.587368Z",
     "iopub.status.idle": "2023-08-15T21:18:03.594178Z",
     "shell.execute_reply": "2023-08-15T21:18:03.593340Z"
    },
    "papermill": {
     "duration": 0.021372,
     "end_time": "2023-08-15T21:18:03.596198",
     "exception": false,
     "start_time": "2023-08-15T21:18:03.574826",
     "status": "completed"
    },
    "tags": []
   },
   "outputs": [],
   "source": [
    "def img_to_patch(x, patch_size, flatten_channels=True):\n",
    "    \"\"\"\n",
    "    Inputs:\n",
    "        x - torch.Tensor representing the image of shape [B, C, H, W]\n",
    "        patch_size - Number of pixels per dimension of the patches (integer)\n",
    "        flatten_channels - If True, the patches will be returned in a flattened format\n",
    "                           as a feature vector instead of a image grid.\n",
    "    \"\"\"\n",
    "    B, C, H, W = x.shape\n",
    "    x = x.reshape(B, C, H//patch_size, patch_size, W//patch_size, patch_size)\n",
    "    x = x.permute(0, 2, 4, 1, 3, 5) # [B, H', W', C, p_H, p_W]\n",
    "    x = x.flatten(1,2)              # [B, H'*W', C, p_H, p_W]\n",
    "    if flatten_channels:\n",
    "        x = x.flatten(2,4)          # [B, H'*W', C*p_H*p_W]\n",
    "    return x"
   ]
  },
  {
   "cell_type": "code",
   "execution_count": 13,
   "id": "48bf3d97",
   "metadata": {
    "execution": {
     "iopub.execute_input": "2023-08-15T21:18:03.621478Z",
     "iopub.status.busy": "2023-08-15T21:18:03.620673Z",
     "iopub.status.idle": "2023-08-15T21:18:03.628712Z",
     "shell.execute_reply": "2023-08-15T21:18:03.627775Z"
    },
    "papermill": {
     "duration": 0.022756,
     "end_time": "2023-08-15T21:18:03.630713",
     "exception": false,
     "start_time": "2023-08-15T21:18:03.607957",
     "status": "completed"
    },
    "tags": []
   },
   "outputs": [],
   "source": [
    "class AttentionBlock(nn.Module):\n",
    "\n",
    "    def __init__(self, embed_dim, hidden_dim, num_heads, dropout=0.0):\n",
    "        \"\"\"\n",
    "        Inputs:\n",
    "            embed_dim - Dimensionality of input and attention feature vectors\n",
    "            hidden_dim - Dimensionality of hidden layer in feed-forward network\n",
    "                         (usually 2-4x larger than embed_dim)\n",
    "            num_heads - Number of heads to use in the Multi-Head Attention block\n",
    "            dropout - Amount of dropout to apply in the feed-forward network\n",
    "        \"\"\"\n",
    "        super().__init__()\n",
    "\n",
    "        self.layer_norm_1 = nn.LayerNorm(embed_dim)\n",
    "        self.attn = nn.MultiheadAttention(embed_dim, num_heads,\n",
    "                                          dropout=dropout)\n",
    "        self.layer_norm_2 = nn.LayerNorm(embed_dim)\n",
    "        self.linear = nn.Sequential(\n",
    "            nn.Linear(embed_dim, hidden_dim),\n",
    "            nn.GELU(),\n",
    "            nn.Dropout(dropout),\n",
    "            nn.Linear(hidden_dim, embed_dim),\n",
    "            nn.Dropout(dropout)\n",
    "        )\n",
    "\n",
    "\n",
    "    def forward(self, x):\n",
    "        inp_x = self.layer_norm_1(x)\n",
    "        x = x + self.attn(inp_x, inp_x, inp_x)[0]\n",
    "        x = x + self.linear(self.layer_norm_2(x))\n",
    "        return x"
   ]
  },
  {
   "cell_type": "code",
   "execution_count": 14,
   "id": "00d42b7e",
   "metadata": {
    "execution": {
     "iopub.execute_input": "2023-08-15T21:18:03.655760Z",
     "iopub.status.busy": "2023-08-15T21:18:03.655202Z",
     "iopub.status.idle": "2023-08-15T21:18:03.666677Z",
     "shell.execute_reply": "2023-08-15T21:18:03.665865Z"
    },
    "papermill": {
     "duration": 0.026086,
     "end_time": "2023-08-15T21:18:03.668744",
     "exception": false,
     "start_time": "2023-08-15T21:18:03.642658",
     "status": "completed"
    },
    "tags": []
   },
   "outputs": [],
   "source": [
    "class VisionTransformer(nn.Module):\n",
    "\n",
    "    def __init__(self, embed_dim, hidden_dim, num_channels, num_heads, num_layers, num_classes, patch_size, num_patches, dropout=0.0):\n",
    "        \"\"\"\n",
    "        Inputs:\n",
    "            embed_dim - Dimensionality of the input feature vectors to the Transformer\n",
    "            hidden_dim - Dimensionality of the hidden layer in the feed-forward networks\n",
    "                         within the Transformer\n",
    "            num_channels - Number of channels of the input (3 for RGB)\n",
    "            num_heads - Number of heads to use in the Multi-Head Attention block\n",
    "            num_layers - Number of layers to use in the Transformer\n",
    "            num_classes - Number of classes to predict\n",
    "            patch_size - Number of pixels that the patches have per dimension\n",
    "            num_patches - Maximum number of patches an image can have\n",
    "            dropout - Amount of dropout to apply in the feed-forward network and\n",
    "                      on the input encoding\n",
    "        \"\"\"\n",
    "        super().__init__()\n",
    "\n",
    "        self.patch_size = patch_size\n",
    "\n",
    "        # Layers/Networks\n",
    "        self.input_layer = nn.Linear(num_channels*(patch_size**2), embed_dim)\n",
    "        self.transformer = nn.Sequential(*[AttentionBlock(embed_dim, hidden_dim, num_heads, dropout=dropout) for _ in range(num_layers)])\n",
    "        self.mlp_head = nn.Sequential(\n",
    "            nn.LayerNorm(embed_dim),\n",
    "            nn.Linear(embed_dim, num_classes)\n",
    "        )\n",
    "        self.dropout = nn.Dropout(dropout)\n",
    "\n",
    "        # Parameters/Embeddings\n",
    "        self.cls_token = nn.Parameter(torch.randn(1,1,embed_dim))\n",
    "        self.pos_embedding = nn.Parameter(torch.randn(1,1+num_patches,embed_dim))\n",
    "\n",
    "\n",
    "    def forward(self, x):\n",
    "        # Preprocess input\n",
    "        x = img_to_patch(x, self.patch_size)\n",
    "        B, T, _ = x.shape\n",
    "        x = self.input_layer(x)\n",
    "\n",
    "        # Add CLS token and positional encoding\n",
    "        cls_token = self.cls_token.repeat(B, 1, 1)\n",
    "        x = torch.cat([cls_token, x], dim=1)\n",
    "        x = x + self.pos_embedding[:,:T+1]\n",
    "\n",
    "        # Apply Transforrmer\n",
    "        x = self.dropout(x)\n",
    "        x = x.transpose(0, 1)\n",
    "        x = self.transformer(x)\n",
    "\n",
    "        # Perform classification prediction\n",
    "        cls = x[0]\n",
    "        out = self.mlp_head(cls)\n",
    "        return out"
   ]
  },
  {
   "cell_type": "code",
   "execution_count": 15,
   "id": "4e4c97ff",
   "metadata": {
    "execution": {
     "iopub.execute_input": "2023-08-15T21:18:03.693876Z",
     "iopub.status.busy": "2023-08-15T21:18:03.693273Z",
     "iopub.status.idle": "2023-08-15T21:18:03.698827Z",
     "shell.execute_reply": "2023-08-15T21:18:03.697955Z"
    },
    "papermill": {
     "duration": 0.020177,
     "end_time": "2023-08-15T21:18:03.700790",
     "exception": false,
     "start_time": "2023-08-15T21:18:03.680613",
     "status": "completed"
    },
    "tags": []
   },
   "outputs": [
    {
     "data": {
      "text/plain": [
       "device(type='cuda', index=0)"
      ]
     },
     "execution_count": 15,
     "metadata": {},
     "output_type": "execute_result"
    }
   ],
   "source": [
    "CONFIG['device']"
   ]
  },
  {
   "cell_type": "code",
   "execution_count": 16,
   "id": "7fbe44bb",
   "metadata": {
    "execution": {
     "iopub.execute_input": "2023-08-15T21:18:03.726803Z",
     "iopub.status.busy": "2023-08-15T21:18:03.726010Z",
     "iopub.status.idle": "2023-08-15T21:18:06.949304Z",
     "shell.execute_reply": "2023-08-15T21:18:06.947902Z"
    },
    "papermill": {
     "duration": 3.239494,
     "end_time": "2023-08-15T21:18:06.952311",
     "exception": false,
     "start_time": "2023-08-15T21:18:03.712817",
     "status": "completed"
    },
    "tags": []
   },
   "outputs": [
    {
     "data": {
      "text/plain": [
       "VisionTransformer(\n",
       "  (input_layer): Linear(in_features=3072, out_features=784, bias=True)\n",
       "  (transformer): Sequential(\n",
       "    (0): AttentionBlock(\n",
       "      (layer_norm_1): LayerNorm((784,), eps=1e-05, elementwise_affine=True)\n",
       "      (attn): MultiheadAttention(\n",
       "        (out_proj): NonDynamicallyQuantizableLinear(in_features=784, out_features=784, bias=True)\n",
       "      )\n",
       "      (layer_norm_2): LayerNorm((784,), eps=1e-05, elementwise_affine=True)\n",
       "      (linear): Sequential(\n",
       "        (0): Linear(in_features=784, out_features=1568, bias=True)\n",
       "        (1): GELU(approximate='none')\n",
       "        (2): Dropout(p=0.2, inplace=False)\n",
       "        (3): Linear(in_features=1568, out_features=784, bias=True)\n",
       "        (4): Dropout(p=0.2, inplace=False)\n",
       "      )\n",
       "    )\n",
       "    (1): AttentionBlock(\n",
       "      (layer_norm_1): LayerNorm((784,), eps=1e-05, elementwise_affine=True)\n",
       "      (attn): MultiheadAttention(\n",
       "        (out_proj): NonDynamicallyQuantizableLinear(in_features=784, out_features=784, bias=True)\n",
       "      )\n",
       "      (layer_norm_2): LayerNorm((784,), eps=1e-05, elementwise_affine=True)\n",
       "      (linear): Sequential(\n",
       "        (0): Linear(in_features=784, out_features=1568, bias=True)\n",
       "        (1): GELU(approximate='none')\n",
       "        (2): Dropout(p=0.2, inplace=False)\n",
       "        (3): Linear(in_features=1568, out_features=784, bias=True)\n",
       "        (4): Dropout(p=0.2, inplace=False)\n",
       "      )\n",
       "    )\n",
       "    (2): AttentionBlock(\n",
       "      (layer_norm_1): LayerNorm((784,), eps=1e-05, elementwise_affine=True)\n",
       "      (attn): MultiheadAttention(\n",
       "        (out_proj): NonDynamicallyQuantizableLinear(in_features=784, out_features=784, bias=True)\n",
       "      )\n",
       "      (layer_norm_2): LayerNorm((784,), eps=1e-05, elementwise_affine=True)\n",
       "      (linear): Sequential(\n",
       "        (0): Linear(in_features=784, out_features=1568, bias=True)\n",
       "        (1): GELU(approximate='none')\n",
       "        (2): Dropout(p=0.2, inplace=False)\n",
       "        (3): Linear(in_features=1568, out_features=784, bias=True)\n",
       "        (4): Dropout(p=0.2, inplace=False)\n",
       "      )\n",
       "    )\n",
       "    (3): AttentionBlock(\n",
       "      (layer_norm_1): LayerNorm((784,), eps=1e-05, elementwise_affine=True)\n",
       "      (attn): MultiheadAttention(\n",
       "        (out_proj): NonDynamicallyQuantizableLinear(in_features=784, out_features=784, bias=True)\n",
       "      )\n",
       "      (layer_norm_2): LayerNorm((784,), eps=1e-05, elementwise_affine=True)\n",
       "      (linear): Sequential(\n",
       "        (0): Linear(in_features=784, out_features=1568, bias=True)\n",
       "        (1): GELU(approximate='none')\n",
       "        (2): Dropout(p=0.2, inplace=False)\n",
       "        (3): Linear(in_features=1568, out_features=784, bias=True)\n",
       "        (4): Dropout(p=0.2, inplace=False)\n",
       "      )\n",
       "    )\n",
       "    (4): AttentionBlock(\n",
       "      (layer_norm_1): LayerNorm((784,), eps=1e-05, elementwise_affine=True)\n",
       "      (attn): MultiheadAttention(\n",
       "        (out_proj): NonDynamicallyQuantizableLinear(in_features=784, out_features=784, bias=True)\n",
       "      )\n",
       "      (layer_norm_2): LayerNorm((784,), eps=1e-05, elementwise_affine=True)\n",
       "      (linear): Sequential(\n",
       "        (0): Linear(in_features=784, out_features=1568, bias=True)\n",
       "        (1): GELU(approximate='none')\n",
       "        (2): Dropout(p=0.2, inplace=False)\n",
       "        (3): Linear(in_features=1568, out_features=784, bias=True)\n",
       "        (4): Dropout(p=0.2, inplace=False)\n",
       "      )\n",
       "    )\n",
       "    (5): AttentionBlock(\n",
       "      (layer_norm_1): LayerNorm((784,), eps=1e-05, elementwise_affine=True)\n",
       "      (attn): MultiheadAttention(\n",
       "        (out_proj): NonDynamicallyQuantizableLinear(in_features=784, out_features=784, bias=True)\n",
       "      )\n",
       "      (layer_norm_2): LayerNorm((784,), eps=1e-05, elementwise_affine=True)\n",
       "      (linear): Sequential(\n",
       "        (0): Linear(in_features=784, out_features=1568, bias=True)\n",
       "        (1): GELU(approximate='none')\n",
       "        (2): Dropout(p=0.2, inplace=False)\n",
       "        (3): Linear(in_features=1568, out_features=784, bias=True)\n",
       "        (4): Dropout(p=0.2, inplace=False)\n",
       "      )\n",
       "    )\n",
       "  )\n",
       "  (mlp_head): Sequential(\n",
       "    (0): LayerNorm((784,), eps=1e-05, elementwise_affine=True)\n",
       "    (1): Linear(in_features=784, out_features=15587, bias=True)\n",
       "  )\n",
       "  (dropout): Dropout(p=0.2, inplace=False)\n",
       ")"
      ]
     },
     "execution_count": 16,
     "metadata": {},
     "output_type": "execute_result"
    }
   ],
   "source": [
    "model = VisionTransformer(**{\n",
    "        'embed_dim': 784,\n",
    "        'hidden_dim': 1568,\n",
    "        'num_heads': 8,\n",
    "        'num_layers': 6,\n",
    "        'patch_size': 32,\n",
    "        'num_channels': 3,\n",
    "        'num_patches': 196,\n",
    "        'num_classes': CONFIG['num_classes'],\n",
    "        'dropout': 0.2\n",
    "    }\n",
    ")\n",
    "model.to(CONFIG['device'])"
   ]
  },
  {
   "cell_type": "code",
   "execution_count": 17,
   "id": "69f8c94c",
   "metadata": {
    "execution": {
     "iopub.execute_input": "2023-08-15T21:18:06.979108Z",
     "iopub.status.busy": "2023-08-15T21:18:06.978781Z",
     "iopub.status.idle": "2023-08-15T21:18:06.984554Z",
     "shell.execute_reply": "2023-08-15T21:18:06.983580Z"
    },
    "papermill": {
     "duration": 0.020966,
     "end_time": "2023-08-15T21:18:06.986606",
     "exception": false,
     "start_time": "2023-08-15T21:18:06.965640",
     "status": "completed"
    },
    "tags": []
   },
   "outputs": [],
   "source": [
    "train_dataset = HappyWhaleDataset(df, transforms=data_transforms[\"train\"])\n",
    "train_loader = DataLoader(train_dataset, batch_size=CONFIG['train_batch_size'], num_workers=2, shuffle=True, drop_last=True)"
   ]
  },
  {
   "cell_type": "code",
   "execution_count": 18,
   "id": "d506a696",
   "metadata": {
    "execution": {
     "iopub.execute_input": "2023-08-15T21:18:07.012471Z",
     "iopub.status.busy": "2023-08-15T21:18:07.012179Z",
     "iopub.status.idle": "2023-08-15T21:18:07.017651Z",
     "shell.execute_reply": "2023-08-15T21:18:07.016695Z"
    },
    "papermill": {
     "duration": 0.020514,
     "end_time": "2023-08-15T21:18:07.019637",
     "exception": false,
     "start_time": "2023-08-15T21:18:06.999123",
     "status": "completed"
    },
    "tags": []
   },
   "outputs": [],
   "source": [
    "# criterion + optimizer + scheduler\n",
    "criterion = nn.CrossEntropyLoss()\n",
    "optimizer = optim.AdamW(model.parameters(), lr=3e-5)\n",
    "lr_scheduler = optim.lr_scheduler.MultiStepLR(optimizer, milestones=[8, 12], gamma=0.1)"
   ]
  },
  {
   "cell_type": "code",
   "execution_count": 19,
   "id": "a711875c",
   "metadata": {
    "execution": {
     "iopub.execute_input": "2023-08-15T21:18:07.045440Z",
     "iopub.status.busy": "2023-08-15T21:18:07.044847Z",
     "iopub.status.idle": "2023-08-15T21:18:07.049320Z",
     "shell.execute_reply": "2023-08-15T21:18:07.048355Z"
    },
    "papermill": {
     "duration": 0.0196,
     "end_time": "2023-08-15T21:18:07.051339",
     "exception": false,
     "start_time": "2023-08-15T21:18:07.031739",
     "status": "completed"
    },
    "tags": []
   },
   "outputs": [],
   "source": [
    "training_loss = []"
   ]
  },
  {
   "cell_type": "code",
   "execution_count": 20,
   "id": "e1024226",
   "metadata": {
    "execution": {
     "iopub.execute_input": "2023-08-15T21:18:07.077488Z",
     "iopub.status.busy": "2023-08-15T21:18:07.076691Z",
     "iopub.status.idle": "2023-08-15T21:18:07.084708Z",
     "shell.execute_reply": "2023-08-15T21:18:07.083839Z"
    },
    "papermill": {
     "duration": 0.023064,
     "end_time": "2023-08-15T21:18:07.086693",
     "exception": false,
     "start_time": "2023-08-15T21:18:07.063629",
     "status": "completed"
    },
    "tags": []
   },
   "outputs": [],
   "source": [
    "def load_model(path):\n",
    "    model = VisionTransformer(**{\n",
    "            'embed_dim': 784,\n",
    "            'hidden_dim': 1568,\n",
    "            'num_heads': 8,\n",
    "            'num_layers': 6,\n",
    "            'patch_size': 32,\n",
    "            'num_channels': 3,\n",
    "            'num_patches': 196,\n",
    "            'num_classes': CONFIG['num_classes'],\n",
    "            'dropout': 0.2\n",
    "        }\n",
    "    )\n",
    "    model.to(CONFIG['device'])\n",
    "    criterion = nn.CrossEntropyLoss()\n",
    "    optimizer = optim.AdamW(model.parameters(), lr=3e-5)\n",
    "    lr_scheduler = optim.lr_scheduler.MultiStepLR(optimizer, milestones=[8, 12], gamma=0.1)\n",
    "\n",
    "    checkpoint = torch.load(path)\n",
    "    model.load_state_dict(checkpoint['model_state_dict'])\n",
    "    optimizer.load_state_dict(checkpoint['optimizer_state_dict'])\n",
    "    lr_scheduler.load_state_dict(checkpoint['lr_scheduler_state_dict'])\n",
    "    epoch = checkpoint['epoch']\n",
    "    training_loss = checkpoint['train_loss']\n",
    "    return model, optimizer, criterion, lr_scheduler, epoch, training_loss    "
   ]
  },
  {
   "cell_type": "code",
   "execution_count": 21,
   "id": "0cbc5dc2",
   "metadata": {
    "execution": {
     "iopub.execute_input": "2023-08-15T21:18:07.112662Z",
     "iopub.status.busy": "2023-08-15T21:18:07.111839Z",
     "iopub.status.idle": "2023-08-15T21:18:07.116128Z",
     "shell.execute_reply": "2023-08-15T21:18:07.115285Z"
    },
    "papermill": {
     "duration": 0.021368,
     "end_time": "2023-08-15T21:18:07.120155",
     "exception": false,
     "start_time": "2023-08-15T21:18:07.098787",
     "status": "completed"
    },
    "tags": []
   },
   "outputs": [],
   "source": [
    "# model, optimizer, criterion, lr_scheduler, current_epoch, training_loss = load_model('model-e15.pt')"
   ]
  },
  {
   "cell_type": "code",
   "execution_count": 22,
   "id": "ee925232",
   "metadata": {
    "execution": {
     "iopub.execute_input": "2023-08-15T21:18:07.146730Z",
     "iopub.status.busy": "2023-08-15T21:18:07.146044Z",
     "iopub.status.idle": "2023-08-16T01:42:11.529037Z",
     "shell.execute_reply": "2023-08-16T01:42:11.528011Z"
    },
    "papermill": {
     "duration": 15844.399581,
     "end_time": "2023-08-16T01:42:11.532657",
     "exception": false,
     "start_time": "2023-08-15T21:18:07.133076",
     "status": "completed"
    },
    "tags": []
   },
   "outputs": [
    {
     "name": "stderr",
     "output_type": "stream",
     "text": [
      "100%|██████████| 1594/1594 [52:25<00:00,  1.97s/it, Epoch=0, LR=3e-5, Train_Loss=9.01]\n"
     ]
    },
    {
     "name": "stdout",
     "output_type": "stream",
     "text": [
      "Epoch 00: | Train Loss: 9.00877\n"
     ]
    },
    {
     "name": "stderr",
     "output_type": "stream",
     "text": [
      "100%|██████████| 1594/1594 [52:26<00:00,  1.97s/it, Epoch=1, LR=3e-5, Train_Loss=8.36]\n"
     ]
    },
    {
     "name": "stdout",
     "output_type": "stream",
     "text": [
      "Epoch 01: | Train Loss: 8.35603\n"
     ]
    },
    {
     "name": "stderr",
     "output_type": "stream",
     "text": [
      "100%|██████████| 1594/1594 [53:03<00:00,  2.00s/it, Epoch=2, LR=3e-5, Train_Loss=7.96]\n"
     ]
    },
    {
     "name": "stdout",
     "output_type": "stream",
     "text": [
      "Epoch 02: | Train Loss: 7.96117\n"
     ]
    },
    {
     "name": "stderr",
     "output_type": "stream",
     "text": [
      "100%|██████████| 1594/1594 [52:54<00:00,  1.99s/it, Epoch=3, LR=3e-5, Train_Loss=7.64]\n"
     ]
    },
    {
     "name": "stdout",
     "output_type": "stream",
     "text": [
      "Epoch 03: | Train Loss: 7.63960\n"
     ]
    },
    {
     "name": "stderr",
     "output_type": "stream",
     "text": [
      "100%|██████████| 1594/1594 [53:11<00:00,  2.00s/it, Epoch=4, LR=3e-5, Train_Loss=7.37]\n"
     ]
    },
    {
     "name": "stdout",
     "output_type": "stream",
     "text": [
      "Epoch 04: | Train Loss: 7.36681\n"
     ]
    }
   ],
   "source": [
    "start_epoch = 0\n",
    "end_epoch = start_epoch + 5\n",
    "for epoch in range(start_epoch, end_epoch):\n",
    "    train_epoch_loss = 0\n",
    "    gc.collect()\n",
    "    model.train()\n",
    "    bar = tqdm(enumerate(train_loader), total=len(train_loader))\n",
    "    for step, batch in bar:\n",
    "        X_train_batch, y_train_batch = batch['image'], batch['label']\n",
    "        X_train_batch = X_train_batch.to(CONFIG['device'])\n",
    "        y_train_batch = y_train_batch.to(CONFIG['device'])\n",
    "\n",
    "        optimizer.zero_grad()\n",
    "\n",
    "        y_train_pred = model(X_train_batch).squeeze()\n",
    "\n",
    "        train_loss = criterion(y_train_pred, y_train_batch)\n",
    "        #train_acc = multi_acc(y_train_pred, y_train_batch)\n",
    "\n",
    "        train_loss.backward()\n",
    "        optimizer.step()\n",
    "        #lr_scheduler.step()\n",
    "\n",
    "        train_epoch_loss += train_loss.item()\n",
    "        bar.set_postfix(Epoch=epoch, Train_Loss=train_epoch_loss/len(train_loader),LR=optimizer.param_groups[0]['lr']) \n",
    "\n",
    "    training_loss.append(train_epoch_loss/len(train_loader))\n",
    "    gc.collect()\n",
    "    \n",
    "\n",
    "    print(f'Epoch {epoch+0:02}: | Train Loss: {train_epoch_loss/len(train_loader):.5f}')"
   ]
  },
  {
   "cell_type": "code",
   "execution_count": 23,
   "id": "95ddac4d",
   "metadata": {
    "execution": {
     "iopub.execute_input": "2023-08-16T01:42:14.062207Z",
     "iopub.status.busy": "2023-08-16T01:42:14.061819Z",
     "iopub.status.idle": "2023-08-16T01:42:14.395574Z",
     "shell.execute_reply": "2023-08-16T01:42:14.394605Z"
    },
    "papermill": {
     "duration": 1.644169,
     "end_time": "2023-08-16T01:42:14.398253",
     "exception": false,
     "start_time": "2023-08-16T01:42:12.754084",
     "status": "completed"
    },
    "tags": []
   },
   "outputs": [
    {
     "data": {
      "text/plain": [
       "[<matplotlib.lines.Line2D at 0x7d113bb67040>]"
      ]
     },
     "execution_count": 23,
     "metadata": {},
     "output_type": "execute_result"
    },
    {
     "data": {
      "image/png": "[encoded data removed]",
      "text/plain": [
       "<Figure size 640x480 with 1 Axes>"
      ]
     },
     "metadata": {},
     "output_type": "display_data"
    }
   ],
   "source": [
    "plt.plot(training_loss)"
   ]
  },
  {
   "cell_type": "code",
   "execution_count": 24,
   "id": "34093fbe",
   "metadata": {
    "execution": {
     "iopub.execute_input": "2023-08-16T01:42:16.985669Z",
     "iopub.status.busy": "2023-08-16T01:42:16.985298Z",
     "iopub.status.idle": "2023-08-16T01:42:16.992327Z",
     "shell.execute_reply": "2023-08-16T01:42:16.990604Z"
    },
    "papermill": {
     "duration": 1.339505,
     "end_time": "2023-08-16T01:42:16.995818",
     "exception": false,
     "start_time": "2023-08-16T01:42:15.656313",
     "status": "completed"
    },
    "tags": []
   },
   "outputs": [],
   "source": [
    "def save_model(path):\n",
    "    torch.save({\n",
    "                'epoch': 15,\n",
    "                'model_state_dict': model.state_dict(),\n",
    "                'optimizer_state_dict': optimizer.state_dict(),\n",
    "                'lr_scheduler_state_dict': lr_scheduler.state_dict(),\n",
    "                'train_loss': training_loss,\n",
    "                }, path)\n"
   ]
  },
  {
   "cell_type": "code",
   "execution_count": 25,
   "id": "1d953868",
   "metadata": {
    "execution": {
     "iopub.execute_input": "2023-08-16T01:42:19.438212Z",
     "iopub.status.busy": "2023-08-16T01:42:19.437820Z",
     "iopub.status.idle": "2023-08-16T01:42:20.480551Z",
     "shell.execute_reply": "2023-08-16T01:42:20.479318Z"
    },
    "papermill": {
     "duration": 2.268269,
     "end_time": "2023-08-16T01:42:20.483043",
     "exception": false,
     "start_time": "2023-08-16T01:42:18.214774",
     "status": "completed"
    },
    "tags": []
   },
   "outputs": [],
   "source": [
    "save_model('model-e15.pt')"
   ]
  },
  {
   "cell_type": "code",
   "execution_count": 26,
   "id": "0aef39c0",
   "metadata": {
    "execution": {
     "iopub.execute_input": "2023-08-16T01:42:23.029468Z",
     "iopub.status.busy": "2023-08-16T01:42:23.029101Z",
     "iopub.status.idle": "2023-08-16T01:42:23.038314Z",
     "shell.execute_reply": "2023-08-16T01:42:23.037356Z"
    },
    "papermill": {
     "duration": 1.236309,
     "end_time": "2023-08-16T01:42:23.040616",
     "exception": false,
     "start_time": "2023-08-16T01:42:21.804307",
     "status": "completed"
    },
    "tags": []
   },
   "outputs": [
    {
     "name": "stdout",
     "output_type": "stream",
     "text": [
      "/kaggle/working\n"
     ]
    },
    {
     "data": {
      "text/html": [
       "<a href='model-e15.pt' target='_blank'>model-e15.pt</a><br>"
      ],
      "text/plain": [
       "/kaggle/working/model-e15.pt"
      ]
     },
     "execution_count": 26,
     "metadata": {},
     "output_type": "execute_result"
    }
   ],
   "source": [
    "%cd /kaggle/working\n",
    "from IPython.display import FileLink\n",
    "FileLink(r'model-e15.pt')"
   ]
  },
  {
   "cell_type": "code",
   "execution_count": 27,
   "id": "c560f888",
   "metadata": {
    "execution": {
     "iopub.execute_input": "2023-08-16T01:42:25.670022Z",
     "iopub.status.busy": "2023-08-16T01:42:25.669631Z",
     "iopub.status.idle": "2023-08-16T01:43:06.637564Z",
     "shell.execute_reply": "2023-08-16T01:43:06.636493Z"
    },
    "papermill": {
     "duration": 42.273581,
     "end_time": "2023-08-16T01:43:06.640053",
     "exception": false,
     "start_time": "2023-08-16T01:42:24.366472",
     "status": "completed"
    },
    "tags": []
   },
   "outputs": [],
   "source": [
    "test_data = []\n",
    "for dirname, _, filenames in os.walk('/kaggle/input/happy-whale-and-dolphin/test_images'):\n",
    "    for filename in filenames:\n",
    "        path = os.path.join(dirname, filename)\n",
    "        test_data.append([filename, path])"
   ]
  },
  {
   "cell_type": "code",
   "execution_count": 28,
   "id": "58a3f117",
   "metadata": {
    "execution": {
     "iopub.execute_input": "2023-08-16T01:43:09.167773Z",
     "iopub.status.busy": "2023-08-16T01:43:09.167400Z",
     "iopub.status.idle": "2023-08-16T01:43:09.187344Z",
     "shell.execute_reply": "2023-08-16T01:43:09.186369Z"
    },
    "papermill": {
     "duration": 1.330704,
     "end_time": "2023-08-16T01:43:09.189450",
     "exception": false,
     "start_time": "2023-08-16T01:43:07.858746",
     "status": "completed"
    },
    "tags": []
   },
   "outputs": [],
   "source": [
    "df_test = pd.DataFrame(test_data, columns=['filename', 'path'])"
   ]
  },
  {
   "cell_type": "code",
   "execution_count": 29,
   "id": "7243f5cf",
   "metadata": {
    "execution": {
     "iopub.execute_input": "2023-08-16T01:43:12.220488Z",
     "iopub.status.busy": "2023-08-16T01:43:12.220114Z",
     "iopub.status.idle": "2023-08-16T01:43:12.244289Z",
     "shell.execute_reply": "2023-08-16T01:43:12.243219Z"
    },
    "papermill": {
     "duration": 1.780961,
     "end_time": "2023-08-16T01:43:12.246637",
     "exception": false,
     "start_time": "2023-08-16T01:43:10.465676",
     "status": "completed"
    },
    "tags": []
   },
   "outputs": [
    {
     "data": {
      "text/html": [
       "<div>\n",
       "<style scoped>\n",
       "    .dataframe tbody tr th:only-of-type {\n",
       "        vertical-align: middle;\n",
       "    }\n",
       "\n",
       "    .dataframe tbody tr th {\n",
       "        vertical-align: top;\n",
       "    }\n",
       "\n",
       "    .dataframe thead th {\n",
       "        text-align: right;\n",
       "    }\n",
       "</style>\n",
       "<table border=\"1\" class=\"dataframe\">\n",
       "  <thead>\n",
       "    <tr style=\"text-align: right;\">\n",
       "      <th></th>\n",
       "      <th>filename</th>\n",
       "      <th>path</th>\n",
       "    </tr>\n",
       "  </thead>\n",
       "  <tbody>\n",
       "    <tr>\n",
       "      <th>0</th>\n",
       "      <td>cd50701ae53ed8.jpg</td>\n",
       "      <td>/kaggle/input/happy-whale-and-dolphin/test_ima...</td>\n",
       "    </tr>\n",
       "    <tr>\n",
       "      <th>1</th>\n",
       "      <td>177269f927ed34.jpg</td>\n",
       "      <td>/kaggle/input/happy-whale-and-dolphin/test_ima...</td>\n",
       "    </tr>\n",
       "    <tr>\n",
       "      <th>2</th>\n",
       "      <td>9137934396d804.jpg</td>\n",
       "      <td>/kaggle/input/happy-whale-and-dolphin/test_ima...</td>\n",
       "    </tr>\n",
       "    <tr>\n",
       "      <th>3</th>\n",
       "      <td>c28365a55a0dfe.jpg</td>\n",
       "      <td>/kaggle/input/happy-whale-and-dolphin/test_ima...</td>\n",
       "    </tr>\n",
       "    <tr>\n",
       "      <th>4</th>\n",
       "      <td>1a40b7b382923a.jpg</td>\n",
       "      <td>/kaggle/input/happy-whale-and-dolphin/test_ima...</td>\n",
       "    </tr>\n",
       "    <tr>\n",
       "      <th>...</th>\n",
       "      <td>...</td>\n",
       "      <td>...</td>\n",
       "    </tr>\n",
       "    <tr>\n",
       "      <th>27951</th>\n",
       "      <td>ed5868e5fb3eba.jpg</td>\n",
       "      <td>/kaggle/input/happy-whale-and-dolphin/test_ima...</td>\n",
       "    </tr>\n",
       "    <tr>\n",
       "      <th>27952</th>\n",
       "      <td>986ecc6cb6959c.jpg</td>\n",
       "      <td>/kaggle/input/happy-whale-and-dolphin/test_ima...</td>\n",
       "    </tr>\n",
       "    <tr>\n",
       "      <th>27953</th>\n",
       "      <td>fd19816a92886f.jpg</td>\n",
       "      <td>/kaggle/input/happy-whale-and-dolphin/test_ima...</td>\n",
       "    </tr>\n",
       "    <tr>\n",
       "      <th>27954</th>\n",
       "      <td>c58c2f75688a31.jpg</td>\n",
       "      <td>/kaggle/input/happy-whale-and-dolphin/test_ima...</td>\n",
       "    </tr>\n",
       "    <tr>\n",
       "      <th>27955</th>\n",
       "      <td>ac8c7cf2661d3e.jpg</td>\n",
       "      <td>/kaggle/input/happy-whale-and-dolphin/test_ima...</td>\n",
       "    </tr>\n",
       "  </tbody>\n",
       "</table>\n",
       "<p>27956 rows × 2 columns</p>\n",
       "</div>"
      ],
      "text/plain": [
       "                 filename                                               path\n",
       "0      cd50701ae53ed8.jpg  /kaggle/input/happy-whale-and-dolphin/test_ima...\n",
       "1      177269f927ed34.jpg  /kaggle/input/happy-whale-and-dolphin/test_ima...\n",
       "2      9137934396d804.jpg  /kaggle/input/happy-whale-and-dolphin/test_ima...\n",
       "3      c28365a55a0dfe.jpg  /kaggle/input/happy-whale-and-dolphin/test_ima...\n",
       "4      1a40b7b382923a.jpg  /kaggle/input/happy-whale-and-dolphin/test_ima...\n",
       "...                   ...                                                ...\n",
       "27951  ed5868e5fb3eba.jpg  /kaggle/input/happy-whale-and-dolphin/test_ima...\n",
       "27952  986ecc6cb6959c.jpg  /kaggle/input/happy-whale-and-dolphin/test_ima...\n",
       "27953  fd19816a92886f.jpg  /kaggle/input/happy-whale-and-dolphin/test_ima...\n",
       "27954  c58c2f75688a31.jpg  /kaggle/input/happy-whale-and-dolphin/test_ima...\n",
       "27955  ac8c7cf2661d3e.jpg  /kaggle/input/happy-whale-and-dolphin/test_ima...\n",
       "\n",
       "[27956 rows x 2 columns]"
      ]
     },
     "execution_count": 29,
     "metadata": {},
     "output_type": "execute_result"
    }
   ],
   "source": [
    "df_test"
   ]
  },
  {
   "cell_type": "code",
   "execution_count": 30,
   "id": "9f2566ba",
   "metadata": {
    "execution": {
     "iopub.execute_input": "2023-08-16T01:43:14.711246Z",
     "iopub.status.busy": "2023-08-16T01:43:14.710163Z",
     "iopub.status.idle": "2023-08-16T01:43:14.717974Z",
     "shell.execute_reply": "2023-08-16T01:43:14.717015Z"
    },
    "papermill": {
     "duration": 1.236161,
     "end_time": "2023-08-16T01:43:14.720204",
     "exception": false,
     "start_time": "2023-08-16T01:43:13.484043",
     "status": "completed"
    },
    "tags": []
   },
   "outputs": [],
   "source": [
    "class HappyWhaleTestDataset(Dataset):\n",
    "    def __init__(self, df, transforms=None):\n",
    "        self.df = df\n",
    "        self.file_names = df['path'].values\n",
    "        self.transforms = transforms\n",
    "        \n",
    "    def __len__(self):\n",
    "        return len(self.df)\n",
    "    \n",
    "    def __getitem__(self, index):\n",
    "        img_path = self.file_names[index]\n",
    "        img = cv2.imread(img_path)\n",
    "        img = cv2.cvtColor(img, cv2.COLOR_BGR2RGB)\n",
    "        \n",
    "        if self.transforms:\n",
    "            img = self.transforms(image=img)[\"image\"]\n",
    "            \n",
    "        return {\n",
    "            'image': img\n",
    "        }"
   ]
  },
  {
   "cell_type": "code",
   "execution_count": 31,
   "id": "6c57953c",
   "metadata": {
    "execution": {
     "iopub.execute_input": "2023-08-16T01:43:17.269286Z",
     "iopub.status.busy": "2023-08-16T01:43:17.268897Z",
     "iopub.status.idle": "2023-08-16T01:43:17.274348Z",
     "shell.execute_reply": "2023-08-16T01:43:17.273356Z"
    },
    "papermill": {
     "duration": 1.216316,
     "end_time": "2023-08-16T01:43:17.276297",
     "exception": false,
     "start_time": "2023-08-16T01:43:16.059981",
     "status": "completed"
    },
    "tags": []
   },
   "outputs": [],
   "source": [
    "test_dataset = HappyWhaleTestDataset(df_test, transforms=data_transforms['test'])\n",
    "test_loader = DataLoader(test_dataset, batch_size=CONFIG['test_batch_size'], num_workers=2, shuffle=False)"
   ]
  },
  {
   "cell_type": "code",
   "execution_count": 32,
   "id": "30164c10",
   "metadata": {
    "execution": {
     "iopub.execute_input": "2023-08-16T01:43:19.792692Z",
     "iopub.status.busy": "2023-08-16T01:43:19.792316Z",
     "iopub.status.idle": "2023-08-16T01:43:19.796761Z",
     "shell.execute_reply": "2023-08-16T01:43:19.795705Z"
    },
    "papermill": {
     "duration": 1.218113,
     "end_time": "2023-08-16T01:43:19.798750",
     "exception": false,
     "start_time": "2023-08-16T01:43:18.580637",
     "status": "completed"
    },
    "tags": []
   },
   "outputs": [],
   "source": [
    "y_pred_list = []"
   ]
  },
  {
   "cell_type": "code",
   "execution_count": 33,
   "id": "8cc0c113",
   "metadata": {
    "execution": {
     "iopub.execute_input": "2023-08-16T01:43:22.319445Z",
     "iopub.status.busy": "2023-08-16T01:43:22.318708Z",
     "iopub.status.idle": "2023-08-16T01:43:22.323531Z",
     "shell.execute_reply": "2023-08-16T01:43:22.322513Z"
    },
    "papermill": {
     "duration": 1.314282,
     "end_time": "2023-08-16T01:43:22.325537",
     "exception": false,
     "start_time": "2023-08-16T01:43:21.011255",
     "status": "completed"
    },
    "tags": []
   },
   "outputs": [],
   "source": [
    "import itertools\n",
    "y_pred_list_p = list(itertools.chain(*y_pred_list))"
   ]
  },
  {
   "cell_type": "code",
   "execution_count": 34,
   "id": "f5189128",
   "metadata": {
    "execution": {
     "iopub.execute_input": "2023-08-16T01:43:24.759806Z",
     "iopub.status.busy": "2023-08-16T01:43:24.759112Z",
     "iopub.status.idle": "2023-08-16T02:10:36.743324Z",
     "shell.execute_reply": "2023-08-16T02:10:36.742304Z"
    },
    "papermill": {
     "duration": 1634.249414,
     "end_time": "2023-08-16T02:10:37.787803",
     "exception": false,
     "start_time": "2023-08-16T01:43:23.538389",
     "status": "completed"
    },
    "tags": []
   },
   "outputs": [
    {
     "name": "stderr",
     "output_type": "stream",
     "text": [
      "100%|██████████| 437/437 [27:11<00:00,  3.73s/it]\n"
     ]
    }
   ],
   "source": [
    "model.eval()\n",
    "with torch.no_grad():\n",
    "    bar = tqdm(enumerate(test_loader), total=len(test_loader))\n",
    "    for step, batch in bar:\n",
    "        x_batch = batch['image']\n",
    "        x_batch = x_batch.to(CONFIG['device'])\n",
    "        y_test_pred = model(x_batch)\n",
    "        y_test_pred = torch.softmax(y_test_pred, dim = 1)\n",
    "        y_pred_probs, y_pred_tags = torch.topk(y_test_pred, 5, dim = 1)\n",
    "        y_pred_probs = y_pred_probs.cpu().numpy()\n",
    "        y_pred_tags = y_pred_tags.cpu().numpy()\n",
    "        \n",
    "        # threshold for new_individual\n",
    "        y_pred_tags[:, -1][y_pred_probs[:, -1] < 0.7] = -1 # new_individual     \n",
    "        \n",
    "        y_pred_list.append(y_pred_tags)"
   ]
  },
  {
   "cell_type": "code",
   "execution_count": 35,
   "id": "8cf030cf",
   "metadata": {
    "execution": {
     "iopub.execute_input": "2023-08-16T02:10:40.404164Z",
     "iopub.status.busy": "2023-08-16T02:10:40.403759Z",
     "iopub.status.idle": "2023-08-16T02:10:40.415935Z",
     "shell.execute_reply": "2023-08-16T02:10:40.414903Z"
    },
    "papermill": {
     "duration": 1.275217,
     "end_time": "2023-08-16T02:10:40.418886",
     "exception": false,
     "start_time": "2023-08-16T02:10:39.143669",
     "status": "completed"
    },
    "tags": []
   },
   "outputs": [
    {
     "data": {
      "text/plain": [
       "[array([[  480,  9483,  7921, 15079,    -1],\n",
       "        [ 3295,  5624,    85,   830,    -1],\n",
       "        [ 4909,  7194,  3048,  6710,    -1],\n",
       "        [13506,  3398,  1082,  1613,    -1],\n",
       "        [ 3398,  4520, 12567,  1082,    -1],\n",
       "        [ 5964,  5624,  4047,    85,    -1],\n",
       "        [ 4715,  4520,   180,  5847,    -1],\n",
       "        [ 4334,  3398,  2301,  5380,    -1],\n",
       "        [11492, 14059, 11859,  9688,    -1],\n",
       "        [ 1082,  4520, 12567, 10092,    -1],\n",
       "        [15358,  4987,  8246, 14592,    -1],\n",
       "        [14059, 10192,  9688,   180,    -1],\n",
       "        [11492,  2119,  4587, 11672,    -1],\n",
       "        [11492, 14059,  1101, 11859,    -1],\n",
       "        [ 4909,  3048,  7194, 13383,    -1],\n",
       "        [ 2119,  4587,  3296, 11672,    -1],\n",
       "        [11668, 11118, 14010,  2910,    -1],\n",
       "        [  480, 12461, 14902, 11287,    -1],\n",
       "        [ 4909,  7194,  3048,  6710,    -1],\n",
       "        [ 1492,  8077,  1613,  9688,    -1],\n",
       "        [ 2119,  5017, 12573,  1598,    -1],\n",
       "        [15079,  2910,  9483, 10638,    -1],\n",
       "        [10178, 10750, 14414,   704,    -1],\n",
       "        [14752,  1343,  5847,  7099,    -1],\n",
       "        [11853, 11859,  9688, 11492,    -1],\n",
       "        [11105, 15079,   480,  7921,    -1],\n",
       "        [ 5380, 14059,  1619,  4622,    -1],\n",
       "        [ 2090,  4758,  1548, 11359,    -1],\n",
       "        [ 4987,  5964,  4047, 12711,    -1],\n",
       "        [14174, 10447,  5470,  2098,    -1],\n",
       "        [ 4909,  8022,  3932,  1136,    -1],\n",
       "        [   85,  4389, 11287,  5964,    -1],\n",
       "        [ 1613, 13625, 10679,  9298,    -1],\n",
       "        [ 9688, 11492, 14059,  9140,    -1],\n",
       "        [   85,  5624,  3496,  1644,    -1],\n",
       "        [ 3048,  5460,  3398, 10092,    -1],\n",
       "        [10679, 10092,  9298, 13625,    -1],\n",
       "        [10309,  4520,  3398,  6478,    -1],\n",
       "        [15079, 11105,  9483,    85,    -1],\n",
       "        [15079,  9483,  2910, 11105,    -1],\n",
       "        [10905, 12461,   480, 10827,    -1],\n",
       "        [ 6914,  4273,  2098, 10178,    -1],\n",
       "        [ 1619,  7072,  1548,  9029,    -1],\n",
       "        [ 1185,  9298,  9315,  8143,    -1],\n",
       "        [ 3398,  4520,  9947, 11859,    -1],\n",
       "        [ 2553,  3048, 13625,  9315,    -1],\n",
       "        [14752,  1343, 14059,  9688,    -1],\n",
       "        [ 1495, 14592,  8246,  5397,    -1],\n",
       "        [10447, 11108,  5470,  8812,    -1],\n",
       "        [15358,  3398,  4667,  4520,    -1],\n",
       "        [14059,  9140, 14752, 11492,    -1],\n",
       "        [ 4520,  5839, 15264,  7293,    -1],\n",
       "        [ 3398,  4667,  6504,  1063,    -1],\n",
       "        [ 9688, 11328, 14059,  2482,    -1],\n",
       "        [14752, 14059,   180,  9688,    -1],\n",
       "        [ 5460,  1082, 10092, 11406,    -1],\n",
       "        [ 1548,  9029,  7072,  8930,    -1],\n",
       "        [10512, 11118,  2910, 11287,    -1],\n",
       "        [ 1613,  3398, 13506,  9029,    -1],\n",
       "        [  704,  5191, 12573, 10519,    -1],\n",
       "        [ 5017,  7649, 11668, 11118,    -1],\n",
       "        [10092,  9315,  9298, 13625,    -1],\n",
       "        [ 3398,  4520,  6518,  9947,    -1],\n",
       "        [11105,  7921,   480, 11287,    -1]]),\n",
       " array([[12461,  2010,   480, 11105,    -1],\n",
       "        [ 5847,  6445,  1343,  7099,    -1],\n",
       "        [14592,  4987,  1492,  8246,    -1],\n",
       "        [ 2139,   704, 10393,  8254,    -1],\n",
       "        [11859,  9688, 11492, 14752,    -1],\n",
       "        [ 5463,  8152, 11668,   168,    -1],\n",
       "        [ 9029,  7072,   247,  5025,    -1],\n",
       "        [  480,  7068, 11287,  2910,    -1],\n",
       "        [ 3398,  1613,  4520,  1082,    -1],\n",
       "        [ 8077,  9533,  2921,  8082,    -1],\n",
       "        [14752,  1343, 14059, 11492,    -1],\n",
       "        [ 5847,  7099,  2119,  6734,    -1],\n",
       "        [ 9688, 11859, 10192,  5787,    -1],\n",
       "        [15079,  9483,    85, 14431,    -1],\n",
       "        [11668,  5017, 15562, 12573,    -1],\n",
       "        [14752, 14059,  9688,  1343,    -1],\n",
       "        [ 3048,  5460,  4909,  7194,    -1],\n",
       "        [ 1548,  9728,  5847,  9140,    -1],\n",
       "        [11492, 14752, 11853, 11859,    -1],\n",
       "        [ 4909,  8693,  3048,  6445,    -1],\n",
       "        [11492,  9688, 10192,  9140,    -1],\n",
       "        [ 4909,  7194,  3042,  3048,    -1],\n",
       "        [ 4909,  1136,  3042,  8022,    -1],\n",
       "        [ 9029,  2534,  7072, 11605,    -1],\n",
       "        [ 9140, 11859, 11492,  9688,    -1],\n",
       "        [ 3296, 11668, 11118, 12573,    -1],\n",
       "        [ 3296,  9688, 11668,  2482,    -1],\n",
       "        [ 5463, 11668,  9029, 11672,    -1],\n",
       "        [14059, 11853,  9688,   180,    -1],\n",
       "        [ 8930,  3398, 11328, 13506,    -1],\n",
       "        [10512,  9533,  2628, 11790,    -1],\n",
       "        [ 5964,    85,  1644,  8474,    -1],\n",
       "        [ 1613,  9029,   690,  8930,    -1],\n",
       "        [11492, 14059,  9688, 11859,    -1],\n",
       "        [ 9688, 10192, 11492, 11328,    -1],\n",
       "        [12461,   480,  4587,  2010,    -1],\n",
       "        [10512,  4047,  2139,  8904,    -1],\n",
       "        [ 6734,  7099,  6445,  5847,    -1],\n",
       "        [ 9688,  5847,  5787, 10192,    -1],\n",
       "        [10092, 10679, 13625,  2553,    -1],\n",
       "        [10309,  4520,  3398,  9909,    -1],\n",
       "        [  480,  9483, 15079,  5463,    -1],\n",
       "        [ 9688, 11492, 10192, 14059,    -1],\n",
       "        [ 6445,  5847,  4438,  5590,    -1],\n",
       "        [ 4909,  3932,  8022,  1136,    -1],\n",
       "        [ 1492,  3398,  1613,  9688,    -1],\n",
       "        [12567,  9029,  7072,   247,    -1],\n",
       "        [ 4909,  8693,  3042,  1136,    -1],\n",
       "        [11492,  9688, 14059,  9140,    -1],\n",
       "        [ 9029,  7072,   247,  1619,    -1],\n",
       "        [ 9688, 14059, 11492,   180,    -1],\n",
       "        [ 2119,  5017,  7649, 12573,    -1],\n",
       "        [ 5847,  9688,  9140,  5787,    -1],\n",
       "        [ 4909,  7194,  3048, 15535,    -1],\n",
       "        [ 4520, 15358,  4667,  3398,    -1],\n",
       "        [10519, 12573,  5017,  6658,    -1],\n",
       "        [ 4909,  7194,  3048, 15535,    -1],\n",
       "        [12882, 11879, 14592,  1082,    -1],\n",
       "        [12511, 13901, 13795,  3432,    -1],\n",
       "        [11287,  8152, 10638,   168,    -1],\n",
       "        [  480, 12611,  8152,  5463,    -1],\n",
       "        [ 5847,  4584,  9140, 11492,    -1],\n",
       "        [ 8022,  4909,  1136,  3932,    -1],\n",
       "        [10447,  8812,  5470, 15502,    -1]])]"
      ]
     },
     "execution_count": 35,
     "metadata": {},
     "output_type": "execute_result"
    }
   ],
   "source": [
    "y_pred_list[:2]"
   ]
  },
  {
   "cell_type": "code",
   "execution_count": 36,
   "id": "6a0ecb94",
   "metadata": {
    "execution": {
     "iopub.execute_input": "2023-08-16T02:10:43.026413Z",
     "iopub.status.busy": "2023-08-16T02:10:43.025913Z",
     "iopub.status.idle": "2023-08-16T02:10:43.031457Z",
     "shell.execute_reply": "2023-08-16T02:10:43.030050Z"
    },
    "papermill": {
     "duration": 1.249423,
     "end_time": "2023-08-16T02:10:43.033612",
     "exception": false,
     "start_time": "2023-08-16T02:10:41.784189",
     "status": "completed"
    },
    "tags": []
   },
   "outputs": [],
   "source": [
    "predictions_col = []"
   ]
  },
  {
   "cell_type": "code",
   "execution_count": 37,
   "id": "bb40f505",
   "metadata": {
    "execution": {
     "iopub.execute_input": "2023-08-16T02:10:45.694097Z",
     "iopub.status.busy": "2023-08-16T02:10:45.693699Z",
     "iopub.status.idle": "2023-08-16T02:11:22.725509Z",
     "shell.execute_reply": "2023-08-16T02:11:22.724443Z"
    },
    "papermill": {
     "duration": 38.445286,
     "end_time": "2023-08-16T02:11:22.728294",
     "exception": false,
     "start_time": "2023-08-16T02:10:44.283008",
     "status": "completed"
    },
    "tags": []
   },
   "outputs": [],
   "source": [
    "for y_pred_batch in y_pred_list:\n",
    "    for y_pred_top_5 in y_pred_batch:\n",
    "        y_pred_string = f'{encoder.inverse_transform([y_pred_top_5[0]])[0]}'\n",
    "        for y_pred in y_pred_top_5[1:]:\n",
    "            if y_pred == -1:\n",
    "                y_pred_string = y_pred_string + '\\nnew_individual'\n",
    "            else:\n",
    "                y_pred_string = y_pred_string + f'\\n{encoder.inverse_transform([y_pred])[0]}'\n",
    "        predictions_col.append(y_pred_string)"
   ]
  },
  {
   "cell_type": "code",
   "execution_count": 38,
   "id": "8871a796",
   "metadata": {
    "execution": {
     "iopub.execute_input": "2023-08-16T02:11:25.276453Z",
     "iopub.status.busy": "2023-08-16T02:11:25.276066Z",
     "iopub.status.idle": "2023-08-16T02:11:25.282340Z",
     "shell.execute_reply": "2023-08-16T02:11:25.281437Z"
    },
    "papermill": {
     "duration": 1.31416,
     "end_time": "2023-08-16T02:11:25.284326",
     "exception": false,
     "start_time": "2023-08-16T02:11:23.970166",
     "status": "completed"
    },
    "tags": []
   },
   "outputs": [
    {
     "data": {
      "text/plain": [
       "['07a477b6a091\\n9ab8c57f10bc\\n814597f508b8\\nf7bb4f9a9d1a\\nnew_individual',\n",
       " '365c8c1b1840\\n5ca6e3b0601c\\n018aaba90625\\n0d11516e7fbe\\nnew_individual',\n",
       " '51081e431bca\\n7593d2aee842\\n322a18725969\\n6da7ae3c5d54\\nnew_individual']"
      ]
     },
     "execution_count": 38,
     "metadata": {},
     "output_type": "execute_result"
    }
   ],
   "source": [
    "predictions_col[:3]"
   ]
  },
  {
   "cell_type": "code",
   "execution_count": 39,
   "id": "81b4ebc7",
   "metadata": {
    "execution": {
     "iopub.execute_input": "2023-08-16T02:11:27.876075Z",
     "iopub.status.busy": "2023-08-16T02:11:27.875679Z",
     "iopub.status.idle": "2023-08-16T02:11:27.881883Z",
     "shell.execute_reply": "2023-08-16T02:11:27.881025Z"
    },
    "papermill": {
     "duration": 1.254899,
     "end_time": "2023-08-16T02:11:27.884124",
     "exception": false,
     "start_time": "2023-08-16T02:11:26.629225",
     "status": "completed"
    },
    "tags": []
   },
   "outputs": [
    {
     "data": {
      "text/plain": [
       "27956"
      ]
     },
     "execution_count": 39,
     "metadata": {},
     "output_type": "execute_result"
    }
   ],
   "source": [
    "len(predictions_col)"
   ]
  },
  {
   "cell_type": "code",
   "execution_count": 40,
   "id": "5348b203",
   "metadata": {
    "execution": {
     "iopub.execute_input": "2023-08-16T02:11:30.473755Z",
     "iopub.status.busy": "2023-08-16T02:11:30.473320Z",
     "iopub.status.idle": "2023-08-16T02:11:30.483665Z",
     "shell.execute_reply": "2023-08-16T02:11:30.482760Z"
    },
    "papermill": {
     "duration": 1.355915,
     "end_time": "2023-08-16T02:11:30.485687",
     "exception": false,
     "start_time": "2023-08-16T02:11:29.129772",
     "status": "completed"
    },
    "tags": []
   },
   "outputs": [],
   "source": [
    "df_submission = df_test.copy()"
   ]
  },
  {
   "cell_type": "code",
   "execution_count": 41,
   "id": "cf7897ee",
   "metadata": {
    "execution": {
     "iopub.execute_input": "2023-08-16T02:11:33.004117Z",
     "iopub.status.busy": "2023-08-16T02:11:33.003012Z",
     "iopub.status.idle": "2023-08-16T02:11:33.023292Z",
     "shell.execute_reply": "2023-08-16T02:11:33.022363Z"
    },
    "papermill": {
     "duration": 1.266827,
     "end_time": "2023-08-16T02:11:33.025566",
     "exception": false,
     "start_time": "2023-08-16T02:11:31.758739",
     "status": "completed"
    },
    "tags": []
   },
   "outputs": [],
   "source": [
    "df_submission.rename(columns={\"filename\": \"image\"}, inplace=True)\n",
    "df_submission.drop(columns=['path'], inplace=True)"
   ]
  },
  {
   "cell_type": "code",
   "execution_count": 42,
   "id": "cf43e118",
   "metadata": {
    "execution": {
     "iopub.execute_input": "2023-08-16T02:11:35.662747Z",
     "iopub.status.busy": "2023-08-16T02:11:35.662375Z",
     "iopub.status.idle": "2023-08-16T02:11:35.671499Z",
     "shell.execute_reply": "2023-08-16T02:11:35.670605Z"
    },
    "papermill": {
     "duration": 1.317141,
     "end_time": "2023-08-16T02:11:35.673572",
     "exception": false,
     "start_time": "2023-08-16T02:11:34.356431",
     "status": "completed"
    },
    "tags": []
   },
   "outputs": [],
   "source": [
    "df_submission['predictions'] = predictions_col"
   ]
  },
  {
   "cell_type": "code",
   "execution_count": 43,
   "id": "805f7a95",
   "metadata": {
    "execution": {
     "iopub.execute_input": "2023-08-16T02:11:38.396530Z",
     "iopub.status.busy": "2023-08-16T02:11:38.396064Z",
     "iopub.status.idle": "2023-08-16T02:11:38.642215Z",
     "shell.execute_reply": "2023-08-16T02:11:38.641177Z"
    },
    "papermill": {
     "duration": 1.616883,
     "end_time": "2023-08-16T02:11:38.645248",
     "exception": false,
     "start_time": "2023-08-16T02:11:37.028365",
     "status": "completed"
    },
    "tags": []
   },
   "outputs": [],
   "source": [
    "df_submission.to_csv('./submission_topk.csv', index=False)"
   ]
  },
  {
   "cell_type": "code",
   "execution_count": 44,
   "id": "49414aff",
   "metadata": {
    "execution": {
     "iopub.execute_input": "2023-08-16T02:11:41.598382Z",
     "iopub.status.busy": "2023-08-16T02:11:41.597972Z",
     "iopub.status.idle": "2023-08-16T02:11:41.610471Z",
     "shell.execute_reply": "2023-08-16T02:11:41.609404Z"
    },
    "papermill": {
     "duration": 1.390175,
     "end_time": "2023-08-16T02:11:41.612591",
     "exception": false,
     "start_time": "2023-08-16T02:11:40.222416",
     "status": "completed"
    },
    "tags": []
   },
   "outputs": [
    {
     "data": {
      "text/html": [
       "<div>\n",
       "<style scoped>\n",
       "    .dataframe tbody tr th:only-of-type {\n",
       "        vertical-align: middle;\n",
       "    }\n",
       "\n",
       "    .dataframe tbody tr th {\n",
       "        vertical-align: top;\n",
       "    }\n",
       "\n",
       "    .dataframe thead th {\n",
       "        text-align: right;\n",
       "    }\n",
       "</style>\n",
       "<table border=\"1\" class=\"dataframe\">\n",
       "  <thead>\n",
       "    <tr style=\"text-align: right;\">\n",
       "      <th></th>\n",
       "      <th>image</th>\n",
       "      <th>predictions</th>\n",
       "    </tr>\n",
       "  </thead>\n",
       "  <tbody>\n",
       "    <tr>\n",
       "      <th>0</th>\n",
       "      <td>cd50701ae53ed8.jpg</td>\n",
       "      <td>07a477b6a091\\n9ab8c57f10bc\\n814597f508b8\\nf7bb...</td>\n",
       "    </tr>\n",
       "    <tr>\n",
       "      <th>1</th>\n",
       "      <td>177269f927ed34.jpg</td>\n",
       "      <td>365c8c1b1840\\n5ca6e3b0601c\\n018aaba90625\\n0d11...</td>\n",
       "    </tr>\n",
       "    <tr>\n",
       "      <th>2</th>\n",
       "      <td>9137934396d804.jpg</td>\n",
       "      <td>51081e431bca\\n7593d2aee842\\n322a18725969\\n6da7...</td>\n",
       "    </tr>\n",
       "    <tr>\n",
       "      <th>3</th>\n",
       "      <td>c28365a55a0dfe.jpg</td>\n",
       "      <td>dd8c756c9cb7\\n37c7aba965a5\\n114207cab555\\n19fb...</td>\n",
       "    </tr>\n",
       "    <tr>\n",
       "      <th>4</th>\n",
       "      <td>1a40b7b382923a.jpg</td>\n",
       "      <td>37c7aba965a5\\n4a67e64bd3b7\\nce6e37904aa4\\n1142...</td>\n",
       "    </tr>\n",
       "    <tr>\n",
       "      <th>...</th>\n",
       "      <td>...</td>\n",
       "      <td>...</td>\n",
       "    </tr>\n",
       "    <tr>\n",
       "      <th>27951</th>\n",
       "      <td>ed5868e5fb3eba.jpg</td>\n",
       "      <td>2280b5fcc6c2\\n20916df9f20d\\n8fd41ec0db01\\ncca9...</td>\n",
       "    </tr>\n",
       "    <tr>\n",
       "      <th>27952</th>\n",
       "      <td>986ecc6cb6959c.jpg</td>\n",
       "      <td>814597f508b8\\nf7bb4f9a9d1a\\nb5e1ee74f22b\\n70cb...</td>\n",
       "    </tr>\n",
       "    <tr>\n",
       "      <th>27953</th>\n",
       "      <td>fd19816a92886f.jpg</td>\n",
       "      <td>f195c38bcf17\\naff93d9d3356\\nca886e0b34a3\\n600a...</td>\n",
       "    </tr>\n",
       "    <tr>\n",
       "      <th>27954</th>\n",
       "      <td>c58c2f75688a31.jpg</td>\n",
       "      <td>4a67e64bd3b7\\ne69d5f9f8d1e\\n02da0e68dccd\\n9e89...</td>\n",
       "    </tr>\n",
       "    <tr>\n",
       "      <th>27955</th>\n",
       "      <td>ac8c7cf2661d3e.jpg</td>\n",
       "      <td>51081e431bca\\n82e7f8ecd781\\n122dc7f46c24\\n3a60...</td>\n",
       "    </tr>\n",
       "  </tbody>\n",
       "</table>\n",
       "<p>27956 rows × 2 columns</p>\n",
       "</div>"
      ],
      "text/plain": [
       "                    image                                        predictions\n",
       "0      cd50701ae53ed8.jpg  07a477b6a091\\n9ab8c57f10bc\\n814597f508b8\\nf7bb...\n",
       "1      177269f927ed34.jpg  365c8c1b1840\\n5ca6e3b0601c\\n018aaba90625\\n0d11...\n",
       "2      9137934396d804.jpg  51081e431bca\\n7593d2aee842\\n322a18725969\\n6da7...\n",
       "3      c28365a55a0dfe.jpg  dd8c756c9cb7\\n37c7aba965a5\\n114207cab555\\n19fb...\n",
       "4      1a40b7b382923a.jpg  37c7aba965a5\\n4a67e64bd3b7\\nce6e37904aa4\\n1142...\n",
       "...                   ...                                                ...\n",
       "27951  ed5868e5fb3eba.jpg  2280b5fcc6c2\\n20916df9f20d\\n8fd41ec0db01\\ncca9...\n",
       "27952  986ecc6cb6959c.jpg  814597f508b8\\nf7bb4f9a9d1a\\nb5e1ee74f22b\\n70cb...\n",
       "27953  fd19816a92886f.jpg  f195c38bcf17\\naff93d9d3356\\nca886e0b34a3\\n600a...\n",
       "27954  c58c2f75688a31.jpg  4a67e64bd3b7\\ne69d5f9f8d1e\\n02da0e68dccd\\n9e89...\n",
       "27955  ac8c7cf2661d3e.jpg  51081e431bca\\n82e7f8ecd781\\n122dc7f46c24\\n3a60...\n",
       "\n",
       "[27956 rows x 2 columns]"
      ]
     },
     "execution_count": 44,
     "metadata": {},
     "output_type": "execute_result"
    }
   ],
   "source": [
    "df_submission"
   ]
  },
  {
   "cell_type": "markdown",
   "id": "821556f6",
   "metadata": {
    "papermill": {
     "duration": 1.354051,
     "end_time": "2023-08-16T02:11:44.246435",
     "exception": false,
     "start_time": "2023-08-16T02:11:42.892384",
     "status": "completed"
    },
    "tags": []
   },
   "source": [
    "# References\n",
    "- https://www.kaggle.com/code/debarshichanda/pytorch-arcface-gem-pooling-starter\n",
    "- https://www.kaggle.com/code/jaykumar2862/happy-whale-competition\n",
    "- https://uvadlc-notebooks.readthedocs.io/en/latest/tutorial_notebooks/tutorial6/Transformers_and_MHAttention.html\n",
    "- https://uvadlc-notebooks.readthedocs.io/en/latest/tutorial_notebooks/tutorial15/Vision_Transformer.html"
   ]
  },
  {
   "cell_type": "code",
   "execution_count": null,
   "id": "c044be0f",
   "metadata": {
    "papermill": {
     "duration": 1.251445,
     "end_time": "2023-08-16T02:11:46.818912",
     "exception": false,
     "start_time": "2023-08-16T02:11:45.567467",
     "status": "completed"
    },
    "tags": []
   },
   "outputs": [],
   "source": []
  }
 ],
 "metadata": {
  "kernelspec": {
   "display_name": "Python 3",
   "language": "python",
   "name": "python3"
  },
  "language_info": {
   "codemirror_mode": {
    "name": "ipython",
    "version": 3
   },
   "file_extension": ".py",
   "mimetype": "text/x-python",
   "name": "python",
   "nbconvert_exporter": "python",
   "pygments_lexer": "ipython3",
   "version": "3.10.12"
  },
  "papermill": {
   "default_parameters": {},
   "duration": 17644.537571,
   "end_time": "2023-08-16T02:11:51.747318",
   "environment_variables": {},
   "exception": null,
   "input_path": "__notebook__.ipynb",
   "output_path": "__notebook__.ipynb",
   "parameters": {},
   "start_time": "2023-08-15T21:17:47.209747",
   "version": "2.4.0"
  }
 },
 "nbformat": 4,
 "nbformat_minor": 5
}
